{
 "cells": [
  {
   "cell_type": "code",
   "execution_count": 1,
   "metadata": {
    "collapsed": false
   },
   "outputs": [
    {
     "name": "stdout",
     "output_type": "stream",
     "text": [
      "Number of training examples = 39209\n",
      "Number of testing examples = 12630\n",
      "Image data shape = 32\n",
      "Number of classes = 43\n"
     ]
    }
   ],
   "source": [
    "# Load pickled data\n",
    "import pickle\n",
    "%run helpers.py\n",
    "\n",
    "# TODO: fill this in based on where you saved the training and testing data\n",
    "training_file = 'data/train.p'\n",
    "testing_file = 'data/test.p'\n",
    "\n",
    "with open(training_file, mode='rb') as f:\n",
    "    train = pickle.load(f)\n",
    "with open(testing_file, mode='rb') as f:\n",
    "    test = pickle.load(f)\n",
    "    \n",
    "X_train, y_train = train['features'], train['labels']\n",
    "X_test, y_test = test['features'], test['labels']\n",
    "\n",
    "import pandas as pd\n",
    "signnames = pd.read_csv('signnames.csv')\n",
    "\n",
    "### To start off let's do a basic data summary.\n",
    "n_train = len(X_train)\n",
    "n_test = len(X_test)\n",
    "image_shape = X_train.shape[1]\n",
    "n_classes = len(set(y_train))\n",
    "\n",
    "print(\"Number of training examples =\", n_train)\n",
    "print(\"Number of testing examples =\", n_test)\n",
    "print(\"Image data shape =\", image_shape)\n",
    "print(\"Number of classes =\", n_classes)"
   ]
  },
  {
   "cell_type": "code",
   "execution_count": 2,
   "metadata": {
    "collapsed": false
   },
   "outputs": [],
   "source": [
    "# Training data\n",
    "X_train_gray = np.empty( [n_train, image_shape, image_shape], dtype = np.int32)\n",
    "for i, img in enumerate(X_train):\n",
    "    X_train_gray[i,:,:] = cv2.equalizeHist(grayscale(img), (0, 254) )\n",
    "# Test data\n",
    "X_test_gray = np.empty( [n_test, image_shape, image_shape], dtype = np.int32)\n",
    "for i, img in enumerate(X_test):\n",
    "    X_test_gray[i,:,:] = cv2.equalizeHist(grayscale(img), (0, 254) )"
   ]
  },
  {
   "cell_type": "code",
   "execution_count": 3,
   "metadata": {
    "collapsed": true
   },
   "outputs": [],
   "source": [
    "from sklearn.model_selection import train_test_split\n",
    "\n",
    "X_train_gray, X_valid_gray, y_train, y_valid = train_test_split(\n",
    "    X_train_gray,\n",
    "    y_train,\n",
    "    test_size=0.10,\n",
    "    random_state=1973)"
   ]
  },
  {
   "cell_type": "code",
   "execution_count": 4,
   "metadata": {
    "collapsed": true
   },
   "outputs": [],
   "source": [
    "from sklearn.preprocessing import LabelBinarizer\n",
    "\n",
    "encoder = LabelBinarizer()\n",
    "encoder.fit(y_train)\n",
    "train_labels = encoder.transform(y_train)\n",
    "valid_labels = encoder.transform(y_valid)\n",
    "test_labels = encoder.transform(y_test)\n",
    "\n",
    "# Change to float32, so it can be multiplied against the features in TensorFlow, which are float32\n",
    "train_labels = train_labels.astype(np.float32)\n",
    "valid_labels = valid_labels.astype(np.float32)\n",
    "test_labels = test_labels.astype(np.float32)"
   ]
  },
  {
   "cell_type": "code",
   "execution_count": 5,
   "metadata": {
    "collapsed": true
   },
   "outputs": [],
   "source": [
    "X_train_gray_flat = flatten_all_gray(X_train_gray)\n",
    "X_valid_gray_flat = flatten_all_gray(X_valid_gray)\n",
    "X_test_gray_flat = flatten_all_gray(X_test_gray)\n",
    "\n",
    "X_train_gray_flat = normalize_grayscale(X_train_gray_flat)\n",
    "X_valid_gray_flat = normalize_grayscale(X_valid_gray_flat)\n",
    "X_test_gray_flat = normalize_grayscale(X_test_gray_flat)"
   ]
  },
  {
   "cell_type": "code",
   "execution_count": 8,
   "metadata": {
    "collapsed": false
   },
   "outputs": [
    {
     "name": "stdout",
     "output_type": "stream",
     "text": [
      "Tensor(\"cnn/add_3:0\", shape=(?, 43), dtype=float32)\n",
      "0.876722\n"
     ]
    }
   ],
   "source": [
    "import tensorflow as tf\n",
    "\n",
    "tf.reset_default_graph()\n",
    "\n",
    "TRAIN_DIR = 'final-cnn/'\n",
    "\n",
    "with tf.Session() as sess:\n",
    "    saver = tf.train.import_meta_graph(\n",
    "        os.path.join(TRAIN_DIR, \"checkpoint-20.meta\"))\n",
    "    saver.restore(\n",
    "        sess, os.path.join(TRAIN_DIR, \"checkpoint-20\"))\n",
    "\n",
    "    # These are the Minimal Ops we saved:\n",
    "    output = tf.get_collection(\"output\")[0]\n",
    "    X = tf.get_collection(\"X\")[0]\n",
    "    y = tf.get_collection(\"y\")[0]\n",
    "    \n",
    "    print(output)\n",
    "    \n",
    "    output_probability = tf.nn.softmax(output)\n",
    "    predicted_class = tf.argmax(output_probability, dimension=1)\n",
    "    is_correct_prediction = tf.equal(tf.argmax(output_probability, 1), tf.argmax(y, 1))\n",
    "    accuracy = tf.reduce_mean(tf.cast(is_correct_prediction, tf.float32))\n",
    "\n",
    "    valid_feed_dict = { X: X_test_gray_flat, y: test_labels}\n",
    "\n",
    "    acc = sess.run(accuracy, feed_dict=valid_feed_dict)\n",
    "    \n",
    "    print(acc)"
   ]
  }
 ],
 "metadata": {
  "anaconda-cloud": {},
  "kernelspec": {
   "display_name": "Python [default]",
   "language": "python",
   "name": "python3"
  },
  "language_info": {
   "codemirror_mode": {
    "name": "ipython",
    "version": 3
   },
   "file_extension": ".py",
   "mimetype": "text/x-python",
   "name": "python",
   "nbconvert_exporter": "python",
   "pygments_lexer": "ipython3",
   "version": "3.5.2"
  }
 },
 "nbformat": 4,
 "nbformat_minor": 1
}
